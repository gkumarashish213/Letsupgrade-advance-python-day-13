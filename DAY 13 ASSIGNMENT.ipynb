{
 "cells": [
  {
   "cell_type": "markdown",
   "metadata": {},
   "source": [
    "# Question 1:\n",
    "Remove the hardcoded part from the code with the help of configparser\n",
    "Use the file config file exc.ini\n",
    "from configparser import ConfigParser\n",
    "\n",
    "import socket\n",
    "\n",
    "print (socket.gethostbyname_ex(socket.gethostname())[-1])\n",
    "\n",
    "config = ConfigParser()\n",
    "\n",
    "config.read(\"letus.ini\")\n",
    "\n",
    "http_ip = config.get(\"HTTP\", \"IP\")\n",
    "\n",
    "http_port = config.getint(\"HTTP\", \"port\")\n",
    "\n",
    "print (\"http ip\", http_ip)\n",
    "\n",
    "print (\"http port\", http_port, type(http_port))"
   ]
  },
  {
   "cell_type": "code",
   "execution_count": 4,
   "metadata": {},
   "outputs": [
    {
     "name": "stdout",
     "output_type": "stream",
     "text": [
      "Sections: []\n",
      "Config file does not have section sqlite\n"
     ]
    }
   ],
   "source": [
    "import configparser\n",
    "\n",
    "config = configparser.ConfigParser()\n",
    "config.read('db.ini')\n",
    "\n",
    "sections = config.sections()\n",
    "print(f'Sections: {sections}')\n",
    "\n",
    "sections.append('sqlite')\n",
    "\n",
    "for section in sections:\n",
    "\n",
    "    if config.has_section(section):\n",
    "      print(f'Config file has section {section}')\n",
    "    else:\n",
    "      print(f'Config file does not have section {section}')"
   ]
  },
  {
   "cell_type": "code",
   "execution_count": null,
   "metadata": {},
   "outputs": [],
   "source": []
  }
 ],
 "metadata": {
  "kernelspec": {
   "display_name": "Python 3",
   "language": "python",
   "name": "python3"
  },
  "language_info": {
   "codemirror_mode": {
    "name": "ipython",
    "version": 3
   },
   "file_extension": ".py",
   "mimetype": "text/x-python",
   "name": "python",
   "nbconvert_exporter": "python",
   "pygments_lexer": "ipython3",
   "version": "3.7.4"
  }
 },
 "nbformat": 4,
 "nbformat_minor": 2
}
